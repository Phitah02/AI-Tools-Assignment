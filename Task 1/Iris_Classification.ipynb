{
 "cells": [
  {
   "cell_type": "markdown",
   "metadata": {},
   "source": [
    "# Detailed Iris Species Classification using Decision Tree Classifier\n",
    "\n",
    "This notebook provides a comprehensive analysis of the Iris dataset using a Decision Tree Classifier. \n",
    "We will cover data exploration, preprocessing, model training, evaluation, and interpretation.\n",
    "\n",
    "## Table of Contents\n",
    "1. [Import Libraries](#Import-Libraries)\n",
    "2. [Load and Explore Dataset](#Load-and-Explore-Dataset)\n",
    "3. [Data Preprocessing](#Data-Preprocessing)\n",
    "4. [Split Data](#Split-Data)\n",
    "5. [Train Decision Tree Classifier](#Train-Decision-Tree-Classifier)\n",
    "6. [Make Predictions](#Make-Predictions)\n",
    "7. [Evaluate Model](#Evaluate-Model)\n",
    "8. [Feature Importance](#Feature-Importance)\n",
    "9. [Example Predictions](#Example-Predictions)\n",
    "10. [Summary](#Summary)"
   ]
  },
  {
   "cell_type": "markdown",
   "metadata": {},
   "source": [
    "## Import Libraries\n",
    "\n",
    "We start by importing all necessary libraries for data manipulation, visualization, and machine learning."
   ]
  },
  {
   "cell_type": "code",
   "execution_count": 6,
   "metadata": {},
   "outputs": [],
   "source": [
    "# Import necessary libraries\n",
    "import pandas as pd\n",
    "import numpy as np\n",
    "import matplotlib.pyplot as plt\n",
    "import seaborn as sns\n",
    "from sklearn.model_selection import train_test_split\n",
    "from sklearn.tree import DecisionTreeClassifier\n",
    "from sklearn.metrics import accuracy_score, precision_score, recall_score, classification_report, confusion_matrix\n",
    "from sklearn.preprocessing import LabelEncoder\n",
    "\n",
    "# Set up matplotlib for inline plotting in Jupyter\n",
    "%matplotlib inline\n",
    "\n",
    "# Set seaborn style for better visualizations\n",
    "sns.set_style(\"whitegrid\")"
   ]
  },
  {
   "cell_type": "markdown",
   "metadata": {},
   "source": [
    "## Load and Explore Dataset\n",
    "\n",
    "In this section, we load the Iris dataset and perform initial exploration to understand its structure, content, and basic statistics."
   ]
  },
  {
   "cell_type": "code",
   "execution_count": 7,
   "metadata": {},
   "outputs": [
    {
     "name": "stdout",
     "output_type": "stream",
     "text": [
      "\n",
      "Step 2: Data Preprocessing...\n",
      "Missing values in each column:\n",
      "SepalLengthCm      0\n",
      "SepalWidthCm       0\n",
      "PetalLengthCm      0\n",
      "PetalWidthCm       0\n",
      "Species            0\n",
      "Species_encoded    0\n",
      "dtype: int64\n",
      "\n",
      "'Id' column already removed\n",
      "\n",
      "Label encoding mapping:\n",
      "Iris-setosa: 0\n",
      "Iris-versicolor: 1\n",
      "Iris-virginica: 2\n",
      "\n",
      "Feature matrix shape: (150, 4)\n",
      "Target variable shape: (150,)\n",
      "Features: ['SepalLengthCm', 'SepalWidthCm', 'PetalLengthCm', 'PetalWidthCm']\n"
     ]
    }
   ],
   "source": [
    "# Step 2: Data Preprocessing (Fixed Version)\n",
    "print(\"\\nStep 2: Data Preprocessing...\")\n",
    "\n",
    "# Check for missing values\n",
    "print(\"Missing values in each column:\")\n",
    "print(df.isnull().sum())\n",
    "\n",
    "# Drop the 'Id' column as it's not useful for prediction (if it exists)\n",
    "if 'Id' in df.columns:\n",
    "    df = df.drop('Id', axis=1)\n",
    "    print(\"\\nDropped 'Id' column\")\n",
    "else:\n",
    "    print(\"\\n'Id' column already removed\")\n",
    "\n",
    "# Encode the target variable (Species) from categorical to numerical\n",
    "label_encoder = LabelEncoder()\n",
    "df['Species_encoded'] = label_encoder.fit_transform(df['Species'])\n",
    "print(\"\\nLabel encoding mapping:\")\n",
    "for i, species in enumerate(label_encoder.classes_):\n",
    "    print(f\"{species}: {i}\")\n",
    "\n",
    "# Separate features and target variable\n",
    "X = df.drop(['Species', 'Species_encoded'], axis=1)  # Features\n",
    "y = df['Species_encoded']  # Target variable\n",
    "\n",
    "print(f\"\\nFeature matrix shape: {X.shape}\")\n",
    "print(f\"Target variable shape: {y.shape}\")\n",
    "print(f\"Features: {X.columns.tolist()}\")\n"
   ]
  },
  {
   "cell_type": "code",
   "execution_count": 8,
   "metadata": {},
   "outputs": [
    {
     "name": "stdout",
     "output_type": "stream",
     "text": [
      "Step 1: Loading and exploring the dataset...\n",
      "Dataset shape: (150, 6)\n",
      "\n",
      "First 5 rows:\n",
      "   Id  SepalLengthCm  SepalWidthCm  PetalLengthCm  PetalWidthCm      Species\n",
      "0   1            5.1           3.5            1.4           0.2  Iris-setosa\n",
      "1   2            4.9           3.0            1.4           0.2  Iris-setosa\n",
      "2   3            4.7           3.2            1.3           0.2  Iris-setosa\n",
      "3   4            4.6           3.1            1.5           0.2  Iris-setosa\n",
      "4   5            5.0           3.6            1.4           0.2  Iris-setosa\n",
      "\n",
      "Dataset information:\n",
      "<class 'pandas.core.frame.DataFrame'>\n",
      "RangeIndex: 150 entries, 0 to 149\n",
      "Data columns (total 6 columns):\n",
      " #   Column         Non-Null Count  Dtype  \n",
      "---  ------         --------------  -----  \n",
      " 0   Id             150 non-null    int64  \n",
      " 1   SepalLengthCm  150 non-null    float64\n",
      " 2   SepalWidthCm   150 non-null    float64\n",
      " 3   PetalLengthCm  150 non-null    float64\n",
      " 4   PetalWidthCm   150 non-null    float64\n",
      " 5   Species        150 non-null    object \n",
      "dtypes: float64(4), int64(1), object(1)\n",
      "memory usage: 7.2+ KB\n",
      "None\n",
      "\n",
      "Statistical summary:\n",
      "               Id  SepalLengthCm  SepalWidthCm  PetalLengthCm  PetalWidthCm\n",
      "count  150.000000     150.000000    150.000000     150.000000    150.000000\n",
      "mean    75.500000       5.843333      3.054000       3.758667      1.198667\n",
      "std     43.445368       0.828066      0.433594       1.764420      0.763161\n",
      "min      1.000000       4.300000      2.000000       1.000000      0.100000\n",
      "25%     38.250000       5.100000      2.800000       1.600000      0.300000\n",
      "50%     75.500000       5.800000      3.000000       4.350000      1.300000\n",
      "75%    112.750000       6.400000      3.300000       5.100000      1.800000\n",
      "max    150.000000       7.900000      4.400000       6.900000      2.500000\n",
      "\n",
      "Class distribution:\n",
      "Species\n",
      "Iris-setosa        50\n",
      "Iris-versicolor    50\n",
      "Iris-virginica     50\n",
      "Name: count, dtype: int64\n"
     ]
    }
   ],
   "source": [
    "# Step 1: Load and explore the dataset\n",
    "print(\"Step 1: Loading and exploring the dataset...\")\n",
    "df = pd.read_csv(\"Iris.csv\")\n",
    "print(\"Dataset shape:\", df.shape)\n",
    "print(\"\\nFirst 5 rows:\")\n",
    "print(df.head())\n",
    "print(\"\\nDataset information:\")\n",
    "print(df.info())\n",
    "print(\"\\nStatistical summary:\")\n",
    "print(df.describe())\n",
    "print(\"\\nClass distribution:\")\n",
    "print(df['Species'].value_counts())"
   ]
  },
  {
   "cell_type": "markdown",
   "metadata": {},
   "source": [
    "## Data Preprocessing\n",
    "\n",
    "Data preprocessing involves cleaning the data and preparing it for machine learning. This includes handling missing values, removing unnecessary columns, and encoding categorical variables."
   ]
  },
  {
   "cell_type": "code",
   "execution_count": 9,
   "metadata": {},
   "outputs": [
    {
     "name": "stdout",
     "output_type": "stream",
     "text": [
      "\n",
      "Step 2: Data Preprocessing...\n",
      "Missing values in each column:\n",
      "Id               0\n",
      "SepalLengthCm    0\n",
      "SepalWidthCm     0\n",
      "PetalLengthCm    0\n",
      "PetalWidthCm     0\n",
      "Species          0\n",
      "dtype: int64\n",
      "\n",
      "Dropped 'Id' column\n",
      "\n",
      "Label encoding mapping:\n",
      "Iris-setosa: 0\n",
      "Iris-versicolor: 1\n",
      "Iris-virginica: 2\n",
      "\n",
      "Feature matrix shape: (150, 4)\n",
      "Target variable shape: (150,)\n",
      "Features: ['SepalLengthCm', 'SepalWidthCm', 'PetalLengthCm', 'PetalWidthCm']\n"
     ]
    }
   ],
   "source": [
    "# Step 2: Data Preprocessing\n",
    "print(\"\\nStep 2: Data Preprocessing...\")\n",
    "\n",
    "# Check for missing values\n",
    "print(\"Missing values in each column:\")\n",
    "print(df.isnull().sum())\n",
    "\n",
    "# Drop the 'Id' column as it's not useful for prediction\n",
    "df = df.drop('Id', axis=1)\n",
    "print(\"\\nDropped 'Id' column\")\n",
    "\n",
    "# Encode the target variable (Species) from categorical to numerical\n",
    "label_encoder = LabelEncoder()\n",
    "df['Species_encoded'] = label_encoder.fit_transform(df['Species'])\n",
    "print(\"\\nLabel encoding mapping:\")\n",
    "for i, species in enumerate(label_encoder.classes_):\n",
    "    print(f\"{species}: {i}\")\n",
    "\n",
    "# Separate features and target variable\n",
    "X = df.drop(['Species', 'Species_encoded'], axis=1)  # Features\n",
    "y = df['Species_encoded']  # Target variable\n",
    "\n",
    "print(f\"\\nFeature matrix shape: {X.shape}\")\n",
    "print(f\"Target variable shape: {y.shape}\")\n",
    "print(f\"Features: {X.columns.tolist()}\")"
   ]
  },
  {
   "cell_type": "markdown",
   "metadata": {},
   "source": [
    "## Split Data\n",
    "\n",
    "We split the dataset into training and testing sets to evaluate the model's performance on unseen data. Using stratification ensures balanced class distribution in both sets."
   ]
  },
  {
   "cell_type": "code",
   "execution_count": 10,
   "metadata": {},
   "outputs": [
    {
     "name": "stdout",
     "output_type": "stream",
     "text": [
      "\n",
      "Step 3: Splitting data into training and testing sets...\n",
      "Training set size: 105\n",
      "Testing set size: 45\n",
      "Training set class distribution:\n",
      "Species_encoded\n",
      "1    35\n",
      "0    35\n",
      "2    35\n",
      "Name: count, dtype: int64\n",
      "Testing set class distribution:\n",
      "Species_encoded\n",
      "2    15\n",
      "1    15\n",
      "0    15\n",
      "Name: count, dtype: int64\n"
     ]
    }
   ],
   "source": [
    "# Step 3: Split the data into training and testing sets\n",
    "print(\"\\nStep 3: Splitting data into training and testing sets...\")\n",
    "X_train, X_test, y_train, y_test = train_test_split(\n",
    "    X, y, \n",
    "    test_size=0.3,  # 70% training, 30% testing\n",
    "    random_state=42,  # For reproducibility\n",
    "    stratify=y  # Maintain class distribution in splits\n",
    ")\n",
    "\n",
    "print(f\"Training set size: {X_train.shape[0]}\")\n",
    "print(f\"Testing set size: {X_test.shape[0]}\")\n",
    "print(f\"Training set class distribution:\\n{pd.Series(y_train).value_counts()}\")\n",
    "print(f\"Testing set class distribution:\\n{pd.Series(y_test).value_counts()}\")"
   ]
  },
  {
   "cell_type": "markdown",
   "metadata": {},
   "source": [
    "## Train Decision Tree Classifier\n",
    "\n",
    "We initialize and train a Decision Tree Classifier. The max_depth parameter is set to prevent overfitting by limiting the tree's complexity."
   ]
  },
  {
   "cell_type": "code",
   "execution_count": 11,
   "metadata": {},
   "outputs": [
    {
     "name": "stdout",
     "output_type": "stream",
     "text": [
      "\n",
      "Step 4: Training Decision Tree Classifier...\n",
      "Decision Tree classifier trained successfully!\n"
     ]
    }
   ],
   "source": [
    "# Step 4: Train the Decision Tree Classifier\n",
    "print(\"\\nStep 4: Training Decision Tree Classifier...\")\n",
    "# Create decision tree classifier\n",
    "dt_classifier = DecisionTreeClassifier(\n",
    "    random_state=42,  # For reproducibility\n",
    "    max_depth=3  # Limit tree depth to prevent overfitting\n",
    ")\n",
    "\n",
    "# Train the model\n",
    "dt_classifier.fit(X_train, y_train)\n",
    "print(\"Decision Tree classifier trained successfully!\")"
   ]
  },
  {
   "cell_type": "markdown",
   "metadata": {},
   "source": [
    "## Make Predictions\n",
    "\n",
    "Using the trained model, we make predictions on the test set and display some examples to see how the model performs."
   ]
  },
  {
   "cell_type": "code",
   "execution_count": 12,
   "metadata": {},
   "outputs": [
    {
     "name": "stdout",
     "output_type": "stream",
     "text": [
      "\n",
      "Step 5: Making predictions...\n",
      "First 5 predictions:\n",
      "Sample 1: Actual: Iris-virginica, Predicted: Iris-virginica\n",
      "Sample 2: Actual: Iris-versicolor, Predicted: Iris-versicolor\n",
      "Sample 3: Actual: Iris-virginica, Predicted: Iris-virginica\n",
      "Sample 4: Actual: Iris-versicolor, Predicted: Iris-versicolor\n",
      "Sample 5: Actual: Iris-virginica, Predicted: Iris-virginica\n"
     ]
    }
   ],
   "source": [
    "# Step 5: Make predictions\n",
    "print(\"\\nStep 5: Making predictions...\")\n",
    "y_pred = dt_classifier.predict(X_test)\n",
    "y_pred_proba = dt_classifier.predict_proba(X_test)\n",
    "\n",
    "print(\"First 5 predictions:\")\n",
    "for i in range(5):\n",
    "    actual_species = label_encoder.inverse_transform([y_test.iloc[i]])[0]\n",
    "    predicted_species = label_encoder.inverse_transform([y_pred[i]])[0]\n",
    "    print(f\"Sample {i+1}: Actual: {actual_species}, Predicted: {predicted_species}\")"
   ]
  },
  {
   "cell_type": "markdown",
   "metadata": {},
   "source": [
    "## Evaluate Model\n",
    "\n",
    "Model evaluation involves calculating various metrics and visualizing the results. We use accuracy, precision, recall, classification report, and confusion matrix."
   ]
  },
  {
   "cell_type": "code",
   "execution_count": 13,
   "metadata": {},
   "outputs": [
    {
     "name": "stdout",
     "output_type": "stream",
     "text": [
      "\n",
      "Step 6: Model Evaluation...\n",
      "Accuracy: 0.9778\n",
      "Precision: 0.9792\n",
      "Recall: 0.9778\n",
      "\n",
      "Detailed Classification Report:\n",
      "                 precision    recall  f1-score   support\n",
      "\n",
      "    Iris-setosa       1.00      1.00      1.00        15\n",
      "Iris-versicolor       1.00      0.93      0.97        15\n",
      " Iris-virginica       0.94      1.00      0.97        15\n",
      "\n",
      "       accuracy                           0.98        45\n",
      "      macro avg       0.98      0.98      0.98        45\n",
      "   weighted avg       0.98      0.98      0.98        45\n",
      "\n",
      "Confusion Matrix:\n"
     ]
    },
    {
     "data": {
      "image/png": "[encoded data removed]",
      "text/plain": [
       "<Figure size 800x600 with 2 Axes>"
      ]
     },
     "metadata": {},
     "output_type": "display_data"
    }
   ],
   "source": [
    "# Step 6: Evaluate the model\n",
    "print(\"\\nStep 6: Model Evaluation...\")\n",
    "\n",
    "# Calculate evaluation metrics\n",
    "accuracy = accuracy_score(y_test, y_pred)\n",
    "precision = precision_score(y_test, y_pred, average='weighted')\n",
    "recall = recall_score(y_test, y_pred, average='weighted')\n",
    "\n",
    "print(f\"Accuracy: {accuracy:.4f}\")\n",
    "print(f\"Precision: {precision:.4f}\")\n",
    "print(f\"Recall: {recall:.4f}\")\n",
    "\n",
    "# Detailed classification report\n",
    "print(\"\\nDetailed Classification Report:\")\n",
    "print(classification_report(y_test, y_pred, target_names=label_encoder.classes_))\n",
    "\n",
    "# Confusion Matrix\n",
    "print(\"Confusion Matrix:\")\n",
    "cm = confusion_matrix(y_test, y_pred)\n",
    "plt.figure(figsize=(8, 6))\n",
    "sns.heatmap(cm, annot=True, fmt='d', cmap='Blues', \n",
    "            xticklabels=label_encoder.classes_, \n",
    "            yticklabels=label_encoder.classes_)\n",
    "plt.title('Confusion Matrix - Decision Tree Classifier')\n",
    "plt.xlabel('Predicted Label')\n",
    "plt.ylabel('True Label')\n",
    "plt.show()"
   ]
  },
  {
   "cell_type": "markdown",
   "metadata": {},
   "source": [
    "## Feature Importance\n",
    "\n",
    "Understanding which features are most important for the model's decisions helps in interpreting the results and potentially improving the model."
   ]
  },
  {
   "cell_type": "code",
   "execution_count": 14,
   "metadata": {},
   "outputs": [
    {
     "name": "stdout",
     "output_type": "stream",
     "text": [
      "\n",
      "Step 7: Feature Importance Analysis...\n",
      "Feature Importance:\n",
      "         feature  importance\n",
      "2  PetalLengthCm    0.550877\n",
      "3   PetalWidthCm    0.449123\n",
      "0  SepalLengthCm    0.000000\n",
      "1   SepalWidthCm    0.000000\n"
     ]
    },
    {
     "data": {
      "image/png": "[encoded data removed]",
      "text/plain": [
       "<Figure size 1000x600 with 1 Axes>"
      ]
     },
     "metadata": {},
     "output_type": "display_data"
    }
   ],
   "source": [
    "# Step 7: Feature Importance\n",
    "print(\"\\nStep 7: Feature Importance Analysis...\")\n",
    "feature_importance = pd.DataFrame({\n",
    "    'feature': X.columns,\n",
    "    'importance': dt_classifier.feature_importances_\n",
    "}).sort_values('importance', ascending=False)\n",
    "\n",
    "print(\"Feature Importance:\")\n",
    "print(feature_importance)\n",
    "\n",
    "# Plot feature importance\n",
    "plt.figure(figsize=(10, 6))\n",
    "sns.barplot(data=feature_importance, x='importance', y='feature')\n",
    "plt.title('Feature Importance in Decision Tree Classifier')\n",
    "plt.xlabel('Importance Score')\n",
    "plt.tight_layout()\n",
    "plt.show()"
   ]
  },
  {
   "cell_type": "markdown",
   "metadata": {},
   "source": [
    "## Example Predictions\n",
    "\n",
    "We demonstrate how to use the trained model to make predictions on new, unseen data points."
   ]
  },
  {
   "cell_type": "code",
   "execution_count": 15,
   "metadata": {},
   "outputs": [
    {
     "name": "stdout",
     "output_type": "stream",
     "text": [
      "\n",
      "Step 8: Example of making predictions on new data...\n",
      "Predictions for new samples:\n",
      "\n",
      "Sample 1: [5.1 3.5 1.4 0.2]\n",
      "Predicted species: Iris-setosa\n",
      "Probability distribution:\n",
      "  Iris-setosa: 1.0000\n",
      "  Iris-versicolor: 0.0000\n",
      "  Iris-virginica: 0.0000\n",
      "\n",
      "Sample 2: [6.  2.7 5.1 1.6]\n",
      "Predicted species: Iris-versicolor\n",
      "Probability distribution:\n",
      "  Iris-setosa: 0.0000\n",
      "  Iris-versicolor: 0.5000\n",
      "  Iris-virginica: 0.5000\n",
      "\n",
      "Sample 3: [7.2 3.6 6.1 2.5]\n",
      "Predicted species: Iris-virginica\n",
      "Probability distribution:\n",
      "  Iris-setosa: 0.0000\n",
      "  Iris-versicolor: 0.0294\n",
      "  Iris-virginica: 0.9706\n"
     ]
    },
    {
     "name": "stderr",
     "output_type": "stream",
     "text": [
      "c:\\Users\\Peter Mwaura\\AppData\\Local\\Programs\\Python\\Python313\\Lib\\site-packages\\sklearn\\utils\\validation.py:2749: UserWarning: X does not have valid feature names, but DecisionTreeClassifier was fitted with feature names\n",
      "  warnings.warn(\n",
      "c:\\Users\\Peter Mwaura\\AppData\\Local\\Programs\\Python\\Python313\\Lib\\site-packages\\sklearn\\utils\\validation.py:2749: UserWarning: X does not have valid feature names, but DecisionTreeClassifier was fitted with feature names\n",
      "  warnings.warn(\n"
     ]
    }
   ],
   "source": [
    "# Step 8: Example predictions on new data\n",
    "print(\"\\nStep 8: Example of making predictions on new data...\")\n",
    "# Create some example measurements\n",
    "new_samples = np.array([\n",
    "    [5.1, 3.5, 1.4, 0.2],  # Likely Iris-setosa\n",
    "    [6.0, 2.7, 5.1, 1.6],  # Likely Iris-versicolor\n",
    "    [7.2, 3.6, 6.1, 2.5]   # Likely Iris-virginica\n",
    "])\n",
    "\n",
    "new_predictions = dt_classifier.predict(new_samples)\n",
    "new_probabilities = dt_classifier.predict_proba(new_samples)\n",
    "\n",
    "print(\"Predictions for new samples:\")\n",
    "for i, (pred, probs) in enumerate(zip(new_predictions, new_probabilities)):\n",
    "    species_name = label_encoder.inverse_transform([pred])[0]\n",
    "    print(f\"\\nSample {i+1}: {new_samples[i]}\")\n",
    "    print(f\"Predicted species: {species_name}\")\n",
    "    print(\"Probability distribution:\")\n",
    "    for j, prob in enumerate(probs):\n",
    "        species = label_encoder.inverse_transform([j])[0]\n",
    "        print(f\"  {species}: {prob:.4f}\")"
   ]
  },
  {
   "cell_type": "markdown",
   "metadata": {},
   "source": [
    "## Summary\n",
    "\n",
    "This section provides a final summary of the entire analysis, including key findings and model performance."
   ]
  },
  {
   "cell_type": "code",
   "execution_count": 16,
   "metadata": {},
   "outputs": [
    {
     "name": "stdout",
     "output_type": "stream",
     "text": [
      "\n",
      "==================================================\n",
      "SUMMARY\n",
      "==================================================\n",
      "Model: Decision Tree Classifier\n",
      "Dataset: Iris Species (150 samples, 3 classes)\n",
      "Best performing feature: PetalLengthCm\n",
      "Final Accuracy: 0.9778\n",
      "Model is GOOD\n"
     ]
    }
   ],
   "source": [
    "# Summary\n",
    "print(\"\\n\" + \"=\"*50)\n",
    "print(\"SUMMARY\")\n",
    "print(\"=\"*50)\n",
    "print(f\"Model: Decision Tree Classifier\")\n",
    "print(f\"Dataset: Iris Species (150 samples, 3 classes)\")\n",
    "print(f\"Best performing feature: {feature_importance.iloc[0]['feature']}\")\n",
    "print(f\"Final Accuracy: {accuracy:.4f}\")\n",
    "print(f\"Model is {'GOOD' if accuracy > 0.9 else 'NEEDS IMPROVEMENT'}\")"
   ]
  }
 ],
 "metadata": {
  "kernelspec": {
   "display_name": "Python 3",
   "language": "python",
   "name": "python3"
  },
  "language_info": {
   "codemirror_mode": {
    "name": "ipython",
    "version": 3
   },
   "file_extension": ".py",
   "mimetype": "text/x-python",
   "name": "python",
   "nbconvert_exporter": "python",
   "pygments_lexer": "ipython3",
   "version": "3.13.0"
  }
 },
 "nbformat": 4,
 "nbformat_minor": 4
}
